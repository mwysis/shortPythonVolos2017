{
 "cells": [
  {
   "cell_type": "markdown",
   "metadata": {},
   "source": [
    "* Αυτό είναι ένα κελί για κείμενο (Cells --> Markdown)\n",
    "* |>| = run cell"
   ]
  },
  {
   "cell_type": "code",
   "execution_count": 1,
   "metadata": {},
   "outputs": [
    {
     "name": "stdout",
     "output_type": "stream",
     "text": [
      "Hello Volos Summer School\n"
     ]
    }
   ],
   "source": [
    "# Avto einai keli gia Python Code\n",
    "\n",
    "print \"Hello Volos Summer School\""
   ]
  },
  {
   "cell_type": "code",
   "execution_count": 4,
   "metadata": {},
   "outputs": [
    {
     "data": {
      "text/plain": [
       "7157726"
      ]
     },
     "execution_count": 4,
     "metadata": {},
     "output_type": "execute_result"
    }
   ],
   "source": [
    "(845+5675)*1098-1234"
   ]
  },
  {
   "cell_type": "code",
   "execution_count": 14,
   "metadata": {},
   "outputs": [
    {
     "name": "stdout",
     "output_type": "stream",
     "text": [
      "Type of -129 is <type 'int'>\n",
      "Type of 129.348 is <type 'float'>\n"
     ]
    }
   ],
   "source": [
    "# Avtos einai int\n",
    "n = -129\n",
    "print 'Type of', n, 'is', type(n)\n",
    "# print type(n)\n",
    "m=129.348\n",
    "# m = -129.\n",
    "print 'Type of', m, 'is', type(m)"
   ]
  },
  {
   "cell_type": "code",
   "execution_count": 18,
   "metadata": {},
   "outputs": [
    {
     "data": {
      "text/plain": [
       "2"
      ]
     },
     "execution_count": 18,
     "metadata": {},
     "output_type": "execute_result"
    }
   ],
   "source": [
    "# Akeraii diairesi (piliko)\n",
    "12/5\n",
    "# 12/15"
   ]
  },
  {
   "cell_type": "code",
   "execution_count": 23,
   "metadata": {},
   "outputs": [
    {
     "name": "stdout",
     "output_type": "stream",
     "text": [
      "2.4\n",
      "3.14159265359\n",
      "1.81379936423\n"
     ]
    }
   ],
   "source": [
    "#Pliris diairesi\n",
    "print 12/5.\n",
    "# print 12./5\n",
    "# print 12./5.\n",
    "import math\n",
    "print math.pi\n",
    "print math.pi/math.sqrt(3)"
   ]
  },
  {
   "cell_type": "code",
   "execution_count": 29,
   "metadata": {},
   "outputs": [
    {
     "name": "stdout",
     "output_type": "stream",
     "text": [
      "31.8\n"
     ]
    }
   ],
   "source": [
    "print 12*14/5.-3.8+12%5"
   ]
  },
  {
   "cell_type": "code",
   "execution_count": 30,
   "metadata": {},
   "outputs": [
    {
     "name": "stdout",
     "output_type": "stream",
     "text": [
      "31.8\n"
     ]
    }
   ],
   "source": [
    "# Insert cell below\n",
    "\n",
    "print 12*14/5.-3.8+12%5\n",
    "\n",
    "# Change it to experiment!"
   ]
  },
  {
   "cell_type": "code",
   "execution_count": 26,
   "metadata": {},
   "outputs": [
    {
     "name": "stdout",
     "output_type": "stream",
     "text": [
      "2\n",
      "0\n",
      "1\n"
     ]
    }
   ],
   "source": [
    "# modulo (ypoloipo)\n",
    "print 12%5\n",
    "print 12%2\n",
    "print 13%2"
   ]
  },
  {
   "cell_type": "code",
   "execution_count": 27,
   "metadata": {},
   "outputs": [
    {
     "name": "stdout",
     "output_type": "stream",
     "text": [
      "10 einai artios\n",
      "21 einai perittos\n",
      "32 einai artios\n",
      "43 einai perittos\n",
      "52 einai artios\n"
     ]
    }
   ],
   "source": [
    "# \"Synola\" e;inai listes, oi opoies grafontai ws [...]\n",
    "lista=[10,21,32,43,52]\n",
    "for i in lista:\n",
    "    if i%2==0:\n",
    "        print i, 'einai artios'\n",
    "    else:\n",
    "        print i, 'einai perittos'"
   ]
  },
  {
   "cell_type": "code",
   "execution_count": 28,
   "metadata": {},
   "outputs": [
    {
     "name": "stdout",
     "output_type": "stream",
     "text": [
      "H ypo-lista twn artiwn einai: [10, 32, 52]\n",
      "H ypo-lista twn perittwn einai: [21, 43]\n"
     ]
    }
   ],
   "source": [
    "artioi=[]\n",
    "perittoi=[]\n",
    "lista=[10,21,32,43,52]\n",
    "for i in lista:\n",
    "    if i%2==0:\n",
    "        artioi.append(i)\n",
    "    else:\n",
    "        perittoi.append(i)\n",
    "print 'H ypo-lista twn artiwn einai:', artioi\n",
    "print 'H ypo-lista twn perittwn einai:', perittoi\n"
   ]
  },
  {
   "cell_type": "markdown",
   "metadata": {},
   "source": [
    "Σημειώσεις σε notebooks του Μ. Μπουντουρίδη:\n",
    "\n",
    "* https://github.com/mwysis?tab=repositories\n",
    "* AnoiktaMathimataPython\n",
    "* MathimaPython2016\n",
    "* StatistikiMePython\n",
    "\n",
    "Άλλο υλικο (Twitter mining, δίκτυα, LP κλπ):\n",
    "\n",
    "* https://github.com/mboudour?tab=repositories\n",
    "\n",
    "Για κατέβασμα Clone or Download > Download zip"
   ]
  },
  {
   "cell_type": "markdown",
   "metadata": {},
   "source": [
    "Να εγκαταστείστετε την Anacoda:\n",
    "\n",
    "* Python 2.7\n",
    "* Wndows/Mac/Ubuntu\n",
    "* 64bit/32bit\n",
    "\n",
    "https://www.continuum.io/downloads"
   ]
  },
  {
   "cell_type": "code",
   "execution_count": null,
   "metadata": {
    "collapsed": true
   },
   "outputs": [],
   "source": []
  }
 ],
 "metadata": {
  "kernelspec": {
   "display_name": "Python 2",
   "language": "python",
   "name": "python2"
  },
  "language_info": {
   "codemirror_mode": {
    "name": "ipython",
    "version": 2
   },
   "file_extension": ".py",
   "mimetype": "text/x-python",
   "name": "python",
   "nbconvert_exporter": "python",
   "pygments_lexer": "ipython2",
   "version": "2.7.11"
  }
 },
 "nbformat": 4,
 "nbformat_minor": 2
}
